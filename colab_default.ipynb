{
  "nbformat": 4,
  "nbformat_minor": 0,
  "metadata": {
    "colab": {
      "name": "colab_default.ipynb",
      "provenance": [],
      "collapsed_sections": [],
      "mount_file_id": "16wIacbRH2Kte_b34HAtYw8jTFyz0OA7q",
      "authorship_tag": "ABX9TyMyWsvubONHH4x7ak/gnLP5",
      "include_colab_link": true
    },
    "kernelspec": {
      "name": "python3",
      "display_name": "Python 3"
    },
    "language_info": {
      "name": "python"
    }
  },
  "cells": [
    {
      "cell_type": "markdown",
      "metadata": {
        "id": "view-in-github",
        "colab_type": "text"
      },
      "source": [
        "<a href=\"https://colab.research.google.com/github/EmmaJaneShaw/macquarie/blob/main/colab_default.ipynb\" target=\"_parent\"><img src=\"https://colab.research.google.com/assets/colab-badge.svg\" alt=\"Open In Colab\"/></a>"
      ]
    },
    {
      "cell_type": "code",
      "source": [
        "!pip install anvil-uplink"
      ],
      "metadata": {
        "colab": {
          "base_uri": "https://localhost:8080/",
          "height": 242
        },
        "id": "KyyozlHX1CLV",
        "outputId": "8956792d-0d47-4cb0-9a0f-6288ccfe3277"
      },
      "execution_count": 1,
      "outputs": [
        {
          "output_type": "stream",
          "name": "stdout",
          "text": [
            "Requirement already satisfied: anvil-uplink in /usr/local/lib/python3.7/dist-packages (0.3.42)\n",
            "Requirement already satisfied: future in /usr/local/lib/python3.7/dist-packages (from anvil-uplink) (0.16.0)\n",
            "Requirement already satisfied: six in /usr/local/lib/python3.7/dist-packages (from anvil-uplink) (1.15.0)\n",
            "Requirement already satisfied: ws4py in /usr/local/lib/python3.7/dist-packages (from anvil-uplink) (0.5.1)\n",
            "Collecting argparse\n",
            "  Using cached argparse-1.4.0-py2.py3-none-any.whl (23 kB)\n",
            "Installing collected packages: argparse\n",
            "Successfully installed argparse-1.4.0\n"
          ]
        },
        {
          "output_type": "display_data",
          "data": {
            "application/vnd.colab-display-data+json": {
              "pip_warning": {
                "packages": [
                  "argparse"
                ]
              }
            }
          },
          "metadata": {}
        }
      ]
    },
    {
      "cell_type": "code",
      "source": [
        "!pip install pyjanitor"
      ],
      "metadata": {
        "colab": {
          "base_uri": "https://localhost:8080/"
        },
        "id": "T8YOY3v01Uqa",
        "outputId": "4ba194a5-ad41-4002-ee4e-e25f5f239a64"
      },
      "execution_count": 11,
      "outputs": [
        {
          "output_type": "stream",
          "name": "stdout",
          "text": [
            "Requirement already satisfied: pyjanitor in /usr/local/lib/python3.7/dist-packages (0.22.0)\n",
            "Requirement already satisfied: pandas-flavor in /usr/local/lib/python3.7/dist-packages (from pyjanitor) (0.2.0)\n",
            "Requirement already satisfied: scipy in /usr/local/lib/python3.7/dist-packages (from pyjanitor) (1.4.1)\n",
            "Requirement already satisfied: multipledispatch in /usr/local/lib/python3.7/dist-packages (from pyjanitor) (0.6.0)\n",
            "Requirement already satisfied: natsort in /usr/local/lib/python3.7/dist-packages (from pyjanitor) (5.5.0)\n",
            "Requirement already satisfied: six in /usr/local/lib/python3.7/dist-packages (from multipledispatch->pyjanitor) (1.15.0)\n",
            "Requirement already satisfied: pandas in /usr/local/lib/python3.7/dist-packages (from pandas-flavor->pyjanitor) (1.3.5)\n",
            "Requirement already satisfied: xarray in /usr/local/lib/python3.7/dist-packages (from pandas-flavor->pyjanitor) (0.18.2)\n",
            "Requirement already satisfied: python-dateutil>=2.7.3 in /usr/local/lib/python3.7/dist-packages (from pandas->pandas-flavor->pyjanitor) (2.8.2)\n",
            "Requirement already satisfied: numpy>=1.17.3 in /usr/local/lib/python3.7/dist-packages (from pandas->pandas-flavor->pyjanitor) (1.21.5)\n",
            "Requirement already satisfied: pytz>=2017.3 in /usr/local/lib/python3.7/dist-packages (from pandas->pandas-flavor->pyjanitor) (2018.9)\n",
            "Requirement already satisfied: setuptools>=40.4 in /usr/local/lib/python3.7/dist-packages (from xarray->pandas-flavor->pyjanitor) (57.4.0)\n"
          ]
        }
      ]
    },
    {
      "cell_type": "code",
      "execution_count": 12,
      "metadata": {
        "id": "nC5Iom9f0ZqD"
      },
      "outputs": [],
      "source": [
        "import anvil.server\n",
        "import numpy as np # linear algebra\n",
        "import pandas as pd # data processing, CSV file I/O (e.g. pd.read_csv)\n",
        "from scipy.stats import randint\n",
        "import pandas as pd # data processing, CSV file I/O, data manipulation \n",
        "import matplotlib.pyplot as plt # this is used for the plot the graph \n",
        "import seaborn as sns # used for plot interactive graph. \n",
        "from pandas import set_option\n",
        "plt.style.use('ggplot') # nice plots\n",
        "import janitor as jn\n",
        "\n",
        "from sklearn.model_selection import train_test_split # to split the data into two parts\n",
        "from sklearn.linear_model import LogisticRegression # to apply the Logistic regression\n",
        "from sklearn.feature_selection import RFE\n",
        "from sklearn.model_selection import KFold # for cross validation\n",
        "from sklearn.model_selection import GridSearchCV # for tuning parameter\n",
        "from sklearn.model_selection import RandomizedSearchCV  # Randomized search on hyper parameters.\n",
        "from sklearn.preprocessing import StandardScaler # for normalization\n",
        "from sklearn.pipeline import Pipeline \n",
        "from sklearn.ensemble import RandomForestClassifier\n",
        "import xgboost as xgb\n",
        "from xgboost import XGBClassifier\n",
        "from sklearn.model_selection import cross_val_score\n",
        "from sklearn.metrics import classification_report\n",
        "from sklearn.metrics import confusion_matrix\n",
        "from sklearn.neighbors import KNeighborsClassifier #KNN\n",
        "from sklearn.tree import DecisionTreeClassifier\n",
        "from sklearn.ensemble import ExtraTreesClassifier\n",
        "from sklearn.feature_selection import SelectFromModel\n",
        "from sklearn import metrics # for the check the error and accuracy of the model\n",
        "import warnings\n",
        "warnings.filterwarnings(\"ignore\", category=FutureWarning)\n",
        "\n",
        "import os\n",
        "#print(os.listdir(\"../input\"))"
      ]
    },
    {
      "cell_type": "code",
      "source": [
        "data = pd.read_csv('/content/drive/MyDrive/macquarie_data/credit_card.csv')\n",
        "data.sample(5)"
      ],
      "metadata": {
        "colab": {
          "base_uri": "https://localhost:8080/",
          "height": 334
        },
        "id": "w-a91ILt2iH-",
        "outputId": "e848d8b7-6ad1-4804-81e9-e4798e8aeea9"
      },
      "execution_count": 3,
      "outputs": [
        {
          "output_type": "stream",
          "name": "stderr",
          "text": [
            "/usr/local/lib/python3.7/dist-packages/IPython/core/interactiveshell.py:2882: DtypeWarning: Columns (14) have mixed types.Specify dtype option on import or set low_memory=False.\n",
            "  exec(code_obj, self.user_global_ns, self.user_ns)\n"
          ]
        },
        {
          "output_type": "execute_result",
          "data": {
            "text/plain": [
              "        AMT_ANNUITY  AMT_CREDIT  AMT_GOODS_PRICE  AMT_INCOME_TOTAL  \\\n",
              "186719      20336.0      395766         283500.0             67500   \n",
              "53199       33737.0      948582         679500.0            360000   \n",
              "277257      68360.0      701730         675000.0            315000   \n",
              "21688       35325.0     1125000        1125000.0            262062   \n",
              "186517       7875.0      157500         157500.0             54000   \n",
              "\n",
              "        AMT_REQ_CREDIT_BUREAU_DAY  AMT_REQ_CREDIT_BUREAU_HOUR  \\\n",
              "186719                        0.0                         0.0   \n",
              "53199                         0.0                         0.0   \n",
              "277257                        0.0                         0.0   \n",
              "21688                         0.0                         0.0   \n",
              "186517                        NaN                         NaN   \n",
              "\n",
              "        AMT_REQ_CREDIT_BUREAU_MON  AMT_REQ_CREDIT_BUREAU_QRT  \\\n",
              "186719                        0.0                        0.0   \n",
              "53199                         0.0                        0.0   \n",
              "277257                        0.0                        0.0   \n",
              "21688                         0.0                        0.0   \n",
              "186517                        NaN                        NaN   \n",
              "\n",
              "        AMT_REQ_CREDIT_BUREAU_WEEK  AMT_REQ_CREDIT_BUREAU_YEAR  ...  \\\n",
              "186719                         0.0                         3.0  ...   \n",
              "53199                          0.0                         0.0  ...   \n",
              "277257                         0.0                         7.0  ...   \n",
              "21688                          0.0                         0.0  ...   \n",
              "186517                         NaN                         NaN  ...   \n",
              "\n",
              "       REG_CITY_NOT_WORK_CITY  REG_REGION_NOT_LIVE_REGION  \\\n",
              "186719                      0                           0   \n",
              "53199                       0                           1   \n",
              "277257                      1                           1   \n",
              "21688                       0                           0   \n",
              "186517                      0                           0   \n",
              "\n",
              "        REG_REGION_NOT_WORK_REGION REGION_POPULATION_RELATIVE  \\\n",
              "186719                           0                      0.002   \n",
              "53199                            1                      0.073   \n",
              "277257                           1                      0.015   \n",
              "21688                            0                      0.031   \n",
              "186517                           0                      0.011   \n",
              "\n",
              "       REGION_RATING_CLIENT  REGION_RATING_CLIENT_W_CITY  SK_ID_CURR  \\\n",
              "186719                    3                            3      334284   \n",
              "53199                     1                            1      165774   \n",
              "277257                    2                            2      448140   \n",
              "21688                     2                            2      126120   \n",
              "186517                    3                            3      334026   \n",
              "\n",
              "        SRC_VAR_1  SRC_VAR_4  WEEKDAY_APPR_PROCESS_START  \n",
              "186719     -1.545      0.212                     TUESDAY  \n",
              "53199      -0.431      0.605                   WEDNESDAY  \n",
              "277257     -0.840      0.419                      MONDAY  \n",
              "21688      -0.382      0.631                     TUESDAY  \n",
              "186517     -0.309      0.670                      FRIDAY  \n",
              "\n",
              "[5 rows x 80 columns]"
            ],
            "text/html": [
              "\n",
              "  <div id=\"df-b434a886-8d05-4dad-a00c-667a17b40dc4\">\n",
              "    <div class=\"colab-df-container\">\n",
              "      <div>\n",
              "<style scoped>\n",
              "    .dataframe tbody tr th:only-of-type {\n",
              "        vertical-align: middle;\n",
              "    }\n",
              "\n",
              "    .dataframe tbody tr th {\n",
              "        vertical-align: top;\n",
              "    }\n",
              "\n",
              "    .dataframe thead th {\n",
              "        text-align: right;\n",
              "    }\n",
              "</style>\n",
              "<table border=\"1\" class=\"dataframe\">\n",
              "  <thead>\n",
              "    <tr style=\"text-align: right;\">\n",
              "      <th></th>\n",
              "      <th>AMT_ANNUITY</th>\n",
              "      <th>AMT_CREDIT</th>\n",
              "      <th>AMT_GOODS_PRICE</th>\n",
              "      <th>AMT_INCOME_TOTAL</th>\n",
              "      <th>AMT_REQ_CREDIT_BUREAU_DAY</th>\n",
              "      <th>AMT_REQ_CREDIT_BUREAU_HOUR</th>\n",
              "      <th>AMT_REQ_CREDIT_BUREAU_MON</th>\n",
              "      <th>AMT_REQ_CREDIT_BUREAU_QRT</th>\n",
              "      <th>AMT_REQ_CREDIT_BUREAU_WEEK</th>\n",
              "      <th>AMT_REQ_CREDIT_BUREAU_YEAR</th>\n",
              "      <th>...</th>\n",
              "      <th>REG_CITY_NOT_WORK_CITY</th>\n",
              "      <th>REG_REGION_NOT_LIVE_REGION</th>\n",
              "      <th>REG_REGION_NOT_WORK_REGION</th>\n",
              "      <th>REGION_POPULATION_RELATIVE</th>\n",
              "      <th>REGION_RATING_CLIENT</th>\n",
              "      <th>REGION_RATING_CLIENT_W_CITY</th>\n",
              "      <th>SK_ID_CURR</th>\n",
              "      <th>SRC_VAR_1</th>\n",
              "      <th>SRC_VAR_4</th>\n",
              "      <th>WEEKDAY_APPR_PROCESS_START</th>\n",
              "    </tr>\n",
              "  </thead>\n",
              "  <tbody>\n",
              "    <tr>\n",
              "      <th>186719</th>\n",
              "      <td>20336.0</td>\n",
              "      <td>395766</td>\n",
              "      <td>283500.0</td>\n",
              "      <td>67500</td>\n",
              "      <td>0.0</td>\n",
              "      <td>0.0</td>\n",
              "      <td>0.0</td>\n",
              "      <td>0.0</td>\n",
              "      <td>0.0</td>\n",
              "      <td>3.0</td>\n",
              "      <td>...</td>\n",
              "      <td>0</td>\n",
              "      <td>0</td>\n",
              "      <td>0</td>\n",
              "      <td>0.002</td>\n",
              "      <td>3</td>\n",
              "      <td>3</td>\n",
              "      <td>334284</td>\n",
              "      <td>-1.545</td>\n",
              "      <td>0.212</td>\n",
              "      <td>TUESDAY</td>\n",
              "    </tr>\n",
              "    <tr>\n",
              "      <th>53199</th>\n",
              "      <td>33737.0</td>\n",
              "      <td>948582</td>\n",
              "      <td>679500.0</td>\n",
              "      <td>360000</td>\n",
              "      <td>0.0</td>\n",
              "      <td>0.0</td>\n",
              "      <td>0.0</td>\n",
              "      <td>0.0</td>\n",
              "      <td>0.0</td>\n",
              "      <td>0.0</td>\n",
              "      <td>...</td>\n",
              "      <td>0</td>\n",
              "      <td>1</td>\n",
              "      <td>1</td>\n",
              "      <td>0.073</td>\n",
              "      <td>1</td>\n",
              "      <td>1</td>\n",
              "      <td>165774</td>\n",
              "      <td>-0.431</td>\n",
              "      <td>0.605</td>\n",
              "      <td>WEDNESDAY</td>\n",
              "    </tr>\n",
              "    <tr>\n",
              "      <th>277257</th>\n",
              "      <td>68360.0</td>\n",
              "      <td>701730</td>\n",
              "      <td>675000.0</td>\n",
              "      <td>315000</td>\n",
              "      <td>0.0</td>\n",
              "      <td>0.0</td>\n",
              "      <td>0.0</td>\n",
              "      <td>0.0</td>\n",
              "      <td>0.0</td>\n",
              "      <td>7.0</td>\n",
              "      <td>...</td>\n",
              "      <td>1</td>\n",
              "      <td>1</td>\n",
              "      <td>1</td>\n",
              "      <td>0.015</td>\n",
              "      <td>2</td>\n",
              "      <td>2</td>\n",
              "      <td>448140</td>\n",
              "      <td>-0.840</td>\n",
              "      <td>0.419</td>\n",
              "      <td>MONDAY</td>\n",
              "    </tr>\n",
              "    <tr>\n",
              "      <th>21688</th>\n",
              "      <td>35325.0</td>\n",
              "      <td>1125000</td>\n",
              "      <td>1125000.0</td>\n",
              "      <td>262062</td>\n",
              "      <td>0.0</td>\n",
              "      <td>0.0</td>\n",
              "      <td>0.0</td>\n",
              "      <td>0.0</td>\n",
              "      <td>0.0</td>\n",
              "      <td>0.0</td>\n",
              "      <td>...</td>\n",
              "      <td>0</td>\n",
              "      <td>0</td>\n",
              "      <td>0</td>\n",
              "      <td>0.031</td>\n",
              "      <td>2</td>\n",
              "      <td>2</td>\n",
              "      <td>126120</td>\n",
              "      <td>-0.382</td>\n",
              "      <td>0.631</td>\n",
              "      <td>TUESDAY</td>\n",
              "    </tr>\n",
              "    <tr>\n",
              "      <th>186517</th>\n",
              "      <td>7875.0</td>\n",
              "      <td>157500</td>\n",
              "      <td>157500.0</td>\n",
              "      <td>54000</td>\n",
              "      <td>NaN</td>\n",
              "      <td>NaN</td>\n",
              "      <td>NaN</td>\n",
              "      <td>NaN</td>\n",
              "      <td>NaN</td>\n",
              "      <td>NaN</td>\n",
              "      <td>...</td>\n",
              "      <td>0</td>\n",
              "      <td>0</td>\n",
              "      <td>0</td>\n",
              "      <td>0.011</td>\n",
              "      <td>3</td>\n",
              "      <td>3</td>\n",
              "      <td>334026</td>\n",
              "      <td>-0.309</td>\n",
              "      <td>0.670</td>\n",
              "      <td>FRIDAY</td>\n",
              "    </tr>\n",
              "  </tbody>\n",
              "</table>\n",
              "<p>5 rows × 80 columns</p>\n",
              "</div>\n",
              "      <button class=\"colab-df-convert\" onclick=\"convertToInteractive('df-b434a886-8d05-4dad-a00c-667a17b40dc4')\"\n",
              "              title=\"Convert this dataframe to an interactive table.\"\n",
              "              style=\"display:none;\">\n",
              "        \n",
              "  <svg xmlns=\"http://www.w3.org/2000/svg\" height=\"24px\"viewBox=\"0 0 24 24\"\n",
              "       width=\"24px\">\n",
              "    <path d=\"M0 0h24v24H0V0z\" fill=\"none\"/>\n",
              "    <path d=\"M18.56 5.44l.94 2.06.94-2.06 2.06-.94-2.06-.94-.94-2.06-.94 2.06-2.06.94zm-11 1L8.5 8.5l.94-2.06 2.06-.94-2.06-.94L8.5 2.5l-.94 2.06-2.06.94zm10 10l.94 2.06.94-2.06 2.06-.94-2.06-.94-.94-2.06-.94 2.06-2.06.94z\"/><path d=\"M17.41 7.96l-1.37-1.37c-.4-.4-.92-.59-1.43-.59-.52 0-1.04.2-1.43.59L10.3 9.45l-7.72 7.72c-.78.78-.78 2.05 0 2.83L4 21.41c.39.39.9.59 1.41.59.51 0 1.02-.2 1.41-.59l7.78-7.78 2.81-2.81c.8-.78.8-2.07 0-2.86zM5.41 20L4 18.59l7.72-7.72 1.47 1.35L5.41 20z\"/>\n",
              "  </svg>\n",
              "      </button>\n",
              "      \n",
              "  <style>\n",
              "    .colab-df-container {\n",
              "      display:flex;\n",
              "      flex-wrap:wrap;\n",
              "      gap: 12px;\n",
              "    }\n",
              "\n",
              "    .colab-df-convert {\n",
              "      background-color: #E8F0FE;\n",
              "      border: none;\n",
              "      border-radius: 50%;\n",
              "      cursor: pointer;\n",
              "      display: none;\n",
              "      fill: #1967D2;\n",
              "      height: 32px;\n",
              "      padding: 0 0 0 0;\n",
              "      width: 32px;\n",
              "    }\n",
              "\n",
              "    .colab-df-convert:hover {\n",
              "      background-color: #E2EBFA;\n",
              "      box-shadow: 0px 1px 2px rgba(60, 64, 67, 0.3), 0px 1px 3px 1px rgba(60, 64, 67, 0.15);\n",
              "      fill: #174EA6;\n",
              "    }\n",
              "\n",
              "    [theme=dark] .colab-df-convert {\n",
              "      background-color: #3B4455;\n",
              "      fill: #D2E3FC;\n",
              "    }\n",
              "\n",
              "    [theme=dark] .colab-df-convert:hover {\n",
              "      background-color: #434B5C;\n",
              "      box-shadow: 0px 1px 3px 1px rgba(0, 0, 0, 0.15);\n",
              "      filter: drop-shadow(0px 1px 2px rgba(0, 0, 0, 0.3));\n",
              "      fill: #FFFFFF;\n",
              "    }\n",
              "  </style>\n",
              "\n",
              "      <script>\n",
              "        const buttonEl =\n",
              "          document.querySelector('#df-b434a886-8d05-4dad-a00c-667a17b40dc4 button.colab-df-convert');\n",
              "        buttonEl.style.display =\n",
              "          google.colab.kernel.accessAllowed ? 'block' : 'none';\n",
              "\n",
              "        async function convertToInteractive(key) {\n",
              "          const element = document.querySelector('#df-b434a886-8d05-4dad-a00c-667a17b40dc4');\n",
              "          const dataTable =\n",
              "            await google.colab.kernel.invokeFunction('convertToInteractive',\n",
              "                                                     [key], {});\n",
              "          if (!dataTable) return;\n",
              "\n",
              "          const docLinkHtml = 'Like what you see? Visit the ' +\n",
              "            '<a target=\"_blank\" href=https://colab.research.google.com/notebooks/data_table.ipynb>data table notebook</a>'\n",
              "            + ' to learn more about interactive tables.';\n",
              "          element.innerHTML = '';\n",
              "          dataTable['output_type'] = 'display_data';\n",
              "          await google.colab.output.renderOutput(dataTable, element);\n",
              "          const docLink = document.createElement('div');\n",
              "          docLink.innerHTML = docLinkHtml;\n",
              "          element.appendChild(docLink);\n",
              "        }\n",
              "      </script>\n",
              "    </div>\n",
              "  </div>\n",
              "  "
            ]
          },
          "metadata": {},
          "execution_count": 3
        }
      ]
    },
    {
      "cell_type": "code",
      "source": [
        "pd.set_option('max_rows', 500)\n",
        "pd.set_option('max_colwidth', 80)\n",
        "pd.describe_option('max_colwidth')"
      ],
      "metadata": {
        "colab": {
          "base_uri": "https://localhost:8080/"
        },
        "id": "VI7p-4hh7V8R",
        "outputId": "85a83bd0-153e-46db-9712-cbdb8b8ac465"
      },
      "execution_count": 20,
      "outputs": [
        {
          "output_type": "stream",
          "name": "stdout",
          "text": [
            "display.max_colwidth : int or None\n",
            "    The maximum width in characters of a column in the repr of\n",
            "    a pandas data structure. When the column overflows, a \"...\"\n",
            "    placeholder is embedded in the output. A 'None' value means unlimited.\n",
            "    [default: 50] [currently: 80]\n"
          ]
        }
      ]
    },
    {
      "cell_type": "code",
      "source": [
        "data.columns"
      ],
      "metadata": {
        "colab": {
          "base_uri": "https://localhost:8080/"
        },
        "id": "34604FAW67XE",
        "outputId": "c6dc5765-5dbe-4221-b447-4468aad867a1"
      },
      "execution_count": 21,
      "outputs": [
        {
          "output_type": "execute_result",
          "data": {
            "text/plain": [
              "Index(['AMT_ANNUITY', 'AMT_CREDIT', 'AMT_GOODS_PRICE', 'AMT_INCOME_TOTAL',\n",
              "       'AMT_REQ_CREDIT_BUREAU_DAY', 'AMT_REQ_CREDIT_BUREAU_HOUR',\n",
              "       'AMT_REQ_CREDIT_BUREAU_MON', 'AMT_REQ_CREDIT_BUREAU_QRT',\n",
              "       'AMT_REQ_CREDIT_BUREAU_WEEK', 'AMT_REQ_CREDIT_BUREAU_YEAR',\n",
              "       'APPLICATION_DATE', 'CNT_CHILDREN', 'CNT_FAM_MEMBERS', 'CODE_GENDER',\n",
              "       'DATE_DEFAULT_KNOWN', 'DAYS_BIRTH', 'DAYS_EMPLOYED', 'DAYS_ID_PUBLISH',\n",
              "       'DAYS_LAST_PHONE_CHANGE', 'DAYS_REGISTRATION',\n",
              "       'DEF_30_CNT_SOCIAL_CIRCLE', 'DEF_60_CNT_SOCIAL_CIRCLE', 'DEFAULT',\n",
              "       'EDUCATION_CLASS', 'ETHNICITY', 'EXT_SOURCE_1', 'EXT_SOURCE_2',\n",
              "       'EXT_SOURCE_3', 'FLAG_CONT_MOBILE', 'FLAG_DOCUMENT_10',\n",
              "       'FLAG_DOCUMENT_11', 'FLAG_DOCUMENT_12', 'FLAG_DOCUMENT_13',\n",
              "       'FLAG_DOCUMENT_14', 'FLAG_DOCUMENT_15', 'FLAG_DOCUMENT_16',\n",
              "       'FLAG_DOCUMENT_17', 'FLAG_DOCUMENT_18', 'FLAG_DOCUMENT_19',\n",
              "       'FLAG_DOCUMENT_2', 'FLAG_DOCUMENT_20', 'FLAG_DOCUMENT_21',\n",
              "       'FLAG_DOCUMENT_3', 'FLAG_DOCUMENT_4', 'FLAG_DOCUMENT_5',\n",
              "       'FLAG_DOCUMENT_6', 'FLAG_DOCUMENT_7', 'FLAG_DOCUMENT_8',\n",
              "       'FLAG_DOCUMENT_9', 'FLAG_EMAIL', 'FLAG_EMP_PHONE', 'FLAG_MOBIL',\n",
              "       'FLAG_OWN_CAR', 'FLAG_OWN_REALTY', 'FLAG_PHONE', 'FLAG_WORK_PHONE',\n",
              "       'HOUR_APPR_PROCESS_START', 'HOUSETYPE_MODE', 'NAME_CONTRACT_TYPE',\n",
              "       'NAME_EDUCATION_TYPE', 'NAME_FAMILY_STATUS', 'NAME_HOUSING_TYPE',\n",
              "       'NAME_INCOME_TYPE', 'NAME_TYPE_SUITE', 'OBS_30_CNT_SOCIAL_CIRCLE',\n",
              "       'OBS_60_CNT_SOCIAL_CIRCLE', 'OCCUPATION_TYPE', 'ORGANIZATION_TYPE',\n",
              "       'OWN_CAR_AGE', 'REG_CITY_NOT_LIVE_CITY', 'REG_CITY_NOT_WORK_CITY',\n",
              "       'REG_REGION_NOT_LIVE_REGION', 'REG_REGION_NOT_WORK_REGION',\n",
              "       'REGION_POPULATION_RELATIVE', 'REGION_RATING_CLIENT',\n",
              "       'REGION_RATING_CLIENT_W_CITY', 'SK_ID_CURR', 'SRC_VAR_1', 'SRC_VAR_4',\n",
              "       'WEEKDAY_APPR_PROCESS_START'],\n",
              "      dtype='object')"
            ]
          },
          "metadata": {},
          "execution_count": 21
        }
      ]
    },
    {
      "cell_type": "code",
      "source": [
        "data.shape"
      ],
      "metadata": {
        "colab": {
          "base_uri": "https://localhost:8080/"
        },
        "id": "Ln2poNHj6YnB",
        "outputId": "bff9c96d-6307-41be-f2b8-189ec8971f54"
      },
      "execution_count": 22,
      "outputs": [
        {
          "output_type": "execute_result",
          "data": {
            "text/plain": [
              "(311083, 80)"
            ]
          },
          "metadata": {},
          "execution_count": 22
        }
      ]
    },
    {
      "cell_type": "code",
      "source": [
        "\n",
        "data.dtypes"
      ],
      "metadata": {
        "colab": {
          "base_uri": "https://localhost:8080/"
        },
        "id": "rvzBeEx04BFg",
        "outputId": "75be9ba8-43fe-45dd-bf60-a73933fb8539"
      },
      "execution_count": 23,
      "outputs": [
        {
          "output_type": "execute_result",
          "data": {
            "text/plain": [
              "AMT_ANNUITY                    float64\n",
              "AMT_CREDIT                       int64\n",
              "AMT_GOODS_PRICE                float64\n",
              "AMT_INCOME_TOTAL                 int64\n",
              "AMT_REQ_CREDIT_BUREAU_DAY      float64\n",
              "AMT_REQ_CREDIT_BUREAU_HOUR     float64\n",
              "AMT_REQ_CREDIT_BUREAU_MON      float64\n",
              "AMT_REQ_CREDIT_BUREAU_QRT      float64\n",
              "AMT_REQ_CREDIT_BUREAU_WEEK     float64\n",
              "AMT_REQ_CREDIT_BUREAU_YEAR     float64\n",
              "APPLICATION_DATE                object\n",
              "CNT_CHILDREN                     int64\n",
              "CNT_FAM_MEMBERS                float64\n",
              "CODE_GENDER                     object\n",
              "DATE_DEFAULT_KNOWN              object\n",
              "DAYS_BIRTH                       int64\n",
              "DAYS_EMPLOYED                    int64\n",
              "DAYS_ID_PUBLISH                  int64\n",
              "DAYS_LAST_PHONE_CHANGE         float64\n",
              "DAYS_REGISTRATION                int64\n",
              "DEF_30_CNT_SOCIAL_CIRCLE       float64\n",
              "DEF_60_CNT_SOCIAL_CIRCLE       float64\n",
              "DEFAULT                         object\n",
              "EDUCATION_CLASS                  int64\n",
              "ETHNICITY                        int64\n",
              "EXT_SOURCE_1                   float64\n",
              "EXT_SOURCE_2                   float64\n",
              "EXT_SOURCE_3                   float64\n",
              "FLAG_CONT_MOBILE                 int64\n",
              "FLAG_DOCUMENT_10                 int64\n",
              "FLAG_DOCUMENT_11                 int64\n",
              "FLAG_DOCUMENT_12                 int64\n",
              "FLAG_DOCUMENT_13                 int64\n",
              "FLAG_DOCUMENT_14                 int64\n",
              "FLAG_DOCUMENT_15                 int64\n",
              "FLAG_DOCUMENT_16                 int64\n",
              "FLAG_DOCUMENT_17                 int64\n",
              "FLAG_DOCUMENT_18                 int64\n",
              "FLAG_DOCUMENT_19                 int64\n",
              "FLAG_DOCUMENT_2                  int64\n",
              "FLAG_DOCUMENT_20                 int64\n",
              "FLAG_DOCUMENT_21                 int64\n",
              "FLAG_DOCUMENT_3                  int64\n",
              "FLAG_DOCUMENT_4                  int64\n",
              "FLAG_DOCUMENT_5                  int64\n",
              "FLAG_DOCUMENT_6                  int64\n",
              "FLAG_DOCUMENT_7                  int64\n",
              "FLAG_DOCUMENT_8                  int64\n",
              "FLAG_DOCUMENT_9                  int64\n",
              "FLAG_EMAIL                       int64\n",
              "FLAG_EMP_PHONE                   int64\n",
              "FLAG_MOBIL                       int64\n",
              "FLAG_OWN_CAR                    object\n",
              "FLAG_OWN_REALTY                 object\n",
              "FLAG_PHONE                       int64\n",
              "FLAG_WORK_PHONE                  int64\n",
              "HOUR_APPR_PROCESS_START          int64\n",
              "HOUSETYPE_MODE                  object\n",
              "NAME_CONTRACT_TYPE              object\n",
              "NAME_EDUCATION_TYPE             object\n",
              "NAME_FAMILY_STATUS              object\n",
              "NAME_HOUSING_TYPE               object\n",
              "NAME_INCOME_TYPE                object\n",
              "NAME_TYPE_SUITE                 object\n",
              "OBS_30_CNT_SOCIAL_CIRCLE       float64\n",
              "OBS_60_CNT_SOCIAL_CIRCLE       float64\n",
              "OCCUPATION_TYPE                 object\n",
              "ORGANIZATION_TYPE               object\n",
              "OWN_CAR_AGE                    float64\n",
              "REG_CITY_NOT_LIVE_CITY           int64\n",
              "REG_CITY_NOT_WORK_CITY           int64\n",
              "REG_REGION_NOT_LIVE_REGION       int64\n",
              "REG_REGION_NOT_WORK_REGION       int64\n",
              "REGION_POPULATION_RELATIVE     float64\n",
              "REGION_RATING_CLIENT             int64\n",
              "REGION_RATING_CLIENT_W_CITY      int64\n",
              "SK_ID_CURR                       int64\n",
              "SRC_VAR_1                      float64\n",
              "SRC_VAR_4                      float64\n",
              "WEEKDAY_APPR_PROCESS_START      object\n",
              "dtype: object"
            ]
          },
          "metadata": {},
          "execution_count": 23
        }
      ]
    },
    {
      "cell_type": "code",
      "source": [
        "data.isna().sum().sort_values(axis=0, ascending=False)\n",
        "\n"
      ],
      "metadata": {
        "colab": {
          "base_uri": "https://localhost:8080/"
        },
        "id": "_hAbdQr34NiS",
        "outputId": "f05d9d2d-4c92-408e-a37f-2fe531882d98"
      },
      "execution_count": 27,
      "outputs": [
        {
          "output_type": "execute_result",
          "data": {
            "text/plain": [
              "DATE_DEFAULT_KNOWN             287238\n",
              "OWN_CAR_AGE                    205314\n",
              "EXT_SOURCE_1                   175408\n",
              "HOUSETYPE_MODE                 156147\n",
              "OCCUPATION_TYPE                 95599\n",
              "EXT_SOURCE_3                    61729\n",
              "AMT_REQ_CREDIT_BUREAU_DAY       42049\n",
              "AMT_REQ_CREDIT_BUREAU_HOUR      42049\n",
              "AMT_REQ_CREDIT_BUREAU_MON       42049\n",
              "AMT_REQ_CREDIT_BUREAU_QRT       42049\n",
              "AMT_REQ_CREDIT_BUREAU_WEEK      42049\n",
              "AMT_REQ_CREDIT_BUREAU_YEAR      42049\n",
              "DEFAULT                          2827\n",
              "NAME_TYPE_SUITE                  1307\n",
              "OBS_30_CNT_SOCIAL_CIRCLE         1032\n",
              "OBS_60_CNT_SOCIAL_CIRCLE         1032\n",
              "DEF_30_CNT_SOCIAL_CIRCLE         1032\n",
              "DEF_60_CNT_SOCIAL_CIRCLE         1032\n",
              "APPLICATION_DATE                  745\n",
              "EXT_SOURCE_2                      667\n",
              "SRC_VAR_4                         667\n",
              "SRC_VAR_1                         667\n",
              "AMT_GOODS_PRICE                   285\n",
              "AMT_ANNUITY                        13\n",
              "CNT_FAM_MEMBERS                     2\n",
              "DAYS_LAST_PHONE_CHANGE              1\n",
              "HOUR_APPR_PROCESS_START             0\n",
              "FLAG_WORK_PHONE                     0\n",
              "NAME_CONTRACT_TYPE                  0\n",
              "NAME_HOUSING_TYPE                   0\n",
              "NAME_EDUCATION_TYPE                 0\n",
              "FLAG_PHONE                          0\n",
              "FLAG_OWN_REALTY                     0\n",
              "FLAG_OWN_CAR                        0\n",
              "FLAG_MOBIL                          0\n",
              "NAME_FAMILY_STATUS                  0\n",
              "REG_CITY_NOT_WORK_CITY              0\n",
              "NAME_INCOME_TYPE                    0\n",
              "ORGANIZATION_TYPE                   0\n",
              "REG_CITY_NOT_LIVE_CITY              0\n",
              "FLAG_EMAIL                          0\n",
              "REG_REGION_NOT_LIVE_REGION          0\n",
              "REG_REGION_NOT_WORK_REGION          0\n",
              "REGION_POPULATION_RELATIVE          0\n",
              "REGION_RATING_CLIENT                0\n",
              "REGION_RATING_CLIENT_W_CITY         0\n",
              "SK_ID_CURR                          0\n",
              "FLAG_EMP_PHONE                      0\n",
              "FLAG_DOCUMENT_20                    0\n",
              "FLAG_DOCUMENT_9                     0\n",
              "FLAG_DOCUMENT_13                    0\n",
              "AMT_INCOME_TOTAL                    0\n",
              "CNT_CHILDREN                        0\n",
              "CODE_GENDER                         0\n",
              "DAYS_BIRTH                          0\n",
              "DAYS_EMPLOYED                       0\n",
              "DAYS_ID_PUBLISH                     0\n",
              "DAYS_REGISTRATION                   0\n",
              "EDUCATION_CLASS                     0\n",
              "ETHNICITY                           0\n",
              "FLAG_CONT_MOBILE                    0\n",
              "FLAG_DOCUMENT_10                    0\n",
              "FLAG_DOCUMENT_11                    0\n",
              "FLAG_DOCUMENT_12                    0\n",
              "FLAG_DOCUMENT_14                    0\n",
              "FLAG_DOCUMENT_8                     0\n",
              "FLAG_DOCUMENT_15                    0\n",
              "FLAG_DOCUMENT_16                    0\n",
              "FLAG_DOCUMENT_17                    0\n",
              "FLAG_DOCUMENT_18                    0\n",
              "FLAG_DOCUMENT_19                    0\n",
              "FLAG_DOCUMENT_2                     0\n",
              "AMT_CREDIT                          0\n",
              "FLAG_DOCUMENT_21                    0\n",
              "FLAG_DOCUMENT_3                     0\n",
              "FLAG_DOCUMENT_4                     0\n",
              "FLAG_DOCUMENT_5                     0\n",
              "FLAG_DOCUMENT_6                     0\n",
              "FLAG_DOCUMENT_7                     0\n",
              "WEEKDAY_APPR_PROCESS_START          0\n",
              "dtype: int64"
            ]
          },
          "metadata": {},
          "execution_count": 27
        }
      ]
    },
    {
      "cell_type": "code",
      "source": [
        ""
      ],
      "metadata": {
        "id": "BMbQH2BD6yYN"
      },
      "execution_count": null,
      "outputs": []
    }
  ]
}